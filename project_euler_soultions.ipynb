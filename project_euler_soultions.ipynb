{
 "metadata": {
  "name": "",
  "signature": "sha256:fbfb04153b0e07977eb8c7b42ed57caeb143cb0caeba47256550d4f4ed241b91"
 },
 "nbformat": 3,
 "nbformat_minor": 0,
 "worksheets": [
  {
   "cells": [
    {
     "cell_type": "markdown",
     "metadata": {},
     "source": [
      "# 1. Multiples of 3 and 5\n",
      "\n",
      "If we list all the natural numbers below 10 that are multiples of 3 or 5, we get 3, 5, 6 and 9. The sum of these multiples is 23.\n",
      "\n",
      "Find the sum of all the multiples of 3 or 5 below 1000."
     ]
    },
    {
     "cell_type": "code",
     "collapsed": false,
     "input": [
      "def frizz_buzz(number):\n",
      "    \"\"\" \n",
      "    Calculates the sum of the all the multiples of 3 or 5 of `n`.\n",
      "    @param n -- a non-negative integer\n",
      "    @return integer\n",
      "    \"\"\"\n",
      "    l = lambda x: x if (x%5 == 0) or (x%3 == 0) else 0\n",
      "    return sum(map(l, range(number)))\n",
      "    "
     ],
     "language": "python",
     "metadata": {},
     "outputs": [],
     "prompt_number": 25
    },
    {
     "cell_type": "code",
     "collapsed": false,
     "input": [
      "frizz_buzz(1000)"
     ],
     "language": "python",
     "metadata": {},
     "outputs": [
      {
       "metadata": {},
       "output_type": "pyout",
       "prompt_number": 24,
       "text": [
        "233168"
       ]
      }
     ],
     "prompt_number": 24
    },
    {
     "cell_type": "code",
     "collapsed": false,
     "input": [],
     "language": "python",
     "metadata": {},
     "outputs": []
    }
   ],
   "metadata": {}
  }
 ]
}